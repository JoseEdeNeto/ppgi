{
 "cells": [
  {
   "cell_type": "markdown",
   "metadata": {},
   "source": [
    "# Modelo para classificação de widgets do tipo Dropdown e Suggestion Box"
   ]
  },
  {
   "cell_type": "markdown",
   "metadata": {},
   "source": [
    "__Importando bibliotecas__"
   ]
  },
  {
   "cell_type": "code",
   "execution_count": 1,
   "metadata": {},
   "outputs": [
    {
     "name": "stdout",
     "output_type": "stream",
     "text": [
      "numpy version: 1.16.4\n",
      "pandas version: 0.25.0\n"
     ]
    }
   ],
   "source": [
    "# https://docs.python.org/3/library/random.html\n",
    "import random\n",
    "\n",
    "# funções e operações para cálculos numéricos / https://docs.scipy.org/doc/numpy/reference/\n",
    "import numpy as np\n",
    "print(\"numpy version: {}\". format(np.__version__))\n",
    "\n",
    "# manipulação e processamento de dados / https://pandas.pydata.org/pandas-docs/stable/\n",
    "import pandas as pd\n",
    "print(\"pandas version: {}\". format(pd.__version__))\n",
    "\n",
    "# pré processamento de dados / https://scikit-learn.org/stable/modules/preprocessing.html\n",
    "import sklearn.preprocessing as preprocessing\n",
    "\n",
    "#ignore warnings\n",
    "import warnings\n",
    "warnings.filterwarnings('ignore')"
   ]
  },
  {
   "cell_type": "code",
   "execution_count": 2,
   "metadata": {},
   "outputs": [
    {
     "data": {
      "text/html": [
       "<div>\n",
       "<style scoped>\n",
       "    .dataframe tbody tr th:only-of-type {\n",
       "        vertical-align: middle;\n",
       "    }\n",
       "\n",
       "    .dataframe tbody tr th {\n",
       "        vertical-align: top;\n",
       "    }\n",
       "\n",
       "    .dataframe thead th {\n",
       "        text-align: right;\n",
       "    }\n",
       "</style>\n",
       "<table border=\"1\" class=\"dataframe\">\n",
       "  <thead>\n",
       "    <tr style=\"text-align: right;\">\n",
       "      <th></th>\n",
       "      <th>positionLeft</th>\n",
       "      <th>positionTop</th>\n",
       "      <th>width</th>\n",
       "      <th>height</th>\n",
       "      <th>childCount</th>\n",
       "      <th>domHeight</th>\n",
       "      <th>domLevelMoreElements</th>\n",
       "      <th>domLevelElements</th>\n",
       "      <th>domWidth</th>\n",
       "      <th>mouseX</th>\n",
       "      <th>mouseY</th>\n",
       "      <th>numWords</th>\n",
       "      <th>numWordsChild</th>\n",
       "      <th>numLinks</th>\n",
       "      <th>url</th>\n",
       "      <th>event</th>\n",
       "      <th>widgetClass</th>\n",
       "    </tr>\n",
       "  </thead>\n",
       "  <tbody>\n",
       "    <tr>\n",
       "      <th>0</th>\n",
       "      <td>1119</td>\n",
       "      <td>16</td>\n",
       "      <td>248</td>\n",
       "      <td>30</td>\n",
       "      <td>175</td>\n",
       "      <td>7</td>\n",
       "      <td>6</td>\n",
       "      <td>72</td>\n",
       "      <td>125</td>\n",
       "      <td>1267</td>\n",
       "      <td>87</td>\n",
       "      <td>32</td>\n",
       "      <td>1.33</td>\n",
       "      <td>25</td>\n",
       "      <td>https://www.google.com/</td>\n",
       "      <td>mouseover</td>\n",
       "      <td>Dropdown</td>\n",
       "    </tr>\n",
       "    <tr>\n",
       "      <th>1</th>\n",
       "      <td>1263</td>\n",
       "      <td>16</td>\n",
       "      <td>30</td>\n",
       "      <td>30</td>\n",
       "      <td>0</td>\n",
       "      <td>0</td>\n",
       "      <td>1</td>\n",
       "      <td>1</td>\n",
       "      <td>0</td>\n",
       "      <td>1273</td>\n",
       "      <td>44</td>\n",
       "      <td>0</td>\n",
       "      <td>0.00</td>\n",
       "      <td>0</td>\n",
       "      <td>https://www.google.com/</td>\n",
       "      <td>mouseover</td>\n",
       "      <td>Other</td>\n",
       "    </tr>\n",
       "    <tr>\n",
       "      <th>2</th>\n",
       "      <td>0</td>\n",
       "      <td>0</td>\n",
       "      <td>0</td>\n",
       "      <td>0</td>\n",
       "      <td>156</td>\n",
       "      <td>4</td>\n",
       "      <td>3</td>\n",
       "      <td>72</td>\n",
       "      <td>116</td>\n",
       "      <td>1273</td>\n",
       "      <td>44</td>\n",
       "      <td>30</td>\n",
       "      <td>1.36</td>\n",
       "      <td>21</td>\n",
       "      <td>https://www.google.com/</td>\n",
       "      <td>mouseover</td>\n",
       "      <td>Dropdown</td>\n",
       "    </tr>\n",
       "    <tr>\n",
       "      <th>3</th>\n",
       "      <td>0</td>\n",
       "      <td>0</td>\n",
       "      <td>0</td>\n",
       "      <td>0</td>\n",
       "      <td>0</td>\n",
       "      <td>0</td>\n",
       "      <td>1</td>\n",
       "      <td>1</td>\n",
       "      <td>0</td>\n",
       "      <td>1273</td>\n",
       "      <td>44</td>\n",
       "      <td>0</td>\n",
       "      <td>0.00</td>\n",
       "      <td>0</td>\n",
       "      <td>https://www.google.com/</td>\n",
       "      <td>mouseover</td>\n",
       "      <td>Other</td>\n",
       "    </tr>\n",
       "    <tr>\n",
       "      <th>4</th>\n",
       "      <td>1293</td>\n",
       "      <td>16</td>\n",
       "      <td>45</td>\n",
       "      <td>30</td>\n",
       "      <td>38</td>\n",
       "      <td>6</td>\n",
       "      <td>1</td>\n",
       "      <td>7</td>\n",
       "      <td>20</td>\n",
       "      <td>1273</td>\n",
       "      <td>44</td>\n",
       "      <td>33</td>\n",
       "      <td>2.36</td>\n",
       "      <td>9</td>\n",
       "      <td>https://www.google.com/</td>\n",
       "      <td>mouseover</td>\n",
       "      <td>Dropdown</td>\n",
       "    </tr>\n",
       "  </tbody>\n",
       "</table>\n",
       "</div>"
      ],
      "text/plain": [
       "   positionLeft  positionTop  width  height  childCount  domHeight  \\\n",
       "0          1119           16    248      30         175          7   \n",
       "1          1263           16     30      30           0          0   \n",
       "2             0            0      0       0         156          4   \n",
       "3             0            0      0       0           0          0   \n",
       "4          1293           16     45      30          38          6   \n",
       "\n",
       "   domLevelMoreElements  domLevelElements  domWidth  mouseX  mouseY  numWords  \\\n",
       "0                     6                72       125    1267      87        32   \n",
       "1                     1                 1         0    1273      44         0   \n",
       "2                     3                72       116    1273      44        30   \n",
       "3                     1                 1         0    1273      44         0   \n",
       "4                     1                 7        20    1273      44        33   \n",
       "\n",
       "   numWordsChild  numLinks                      url      event widgetClass  \n",
       "0           1.33        25  https://www.google.com/  mouseover    Dropdown  \n",
       "1           0.00         0  https://www.google.com/  mouseover       Other  \n",
       "2           1.36        21  https://www.google.com/  mouseover    Dropdown  \n",
       "3           0.00         0  https://www.google.com/  mouseover       Other  \n",
       "4           2.36         9  https://www.google.com/  mouseover    Dropdown  "
      ]
     },
     "execution_count": 2,
     "metadata": {},
     "output_type": "execute_result"
    }
   ],
   "source": [
    "path_file1 = 'DataSets/widgets/5-test-widget-com-url.tab'\n",
    "file1 = pd.read_csv(path_file1, sep='\\t')\n",
    "\n",
    "path_file2 = 'DataSets/widgets/5-training-widget-com-url.tab'\n",
    "file2 = pd.read_csv(path_file2, sep='\\t')\n",
    "\n",
    "frames = [file1, file2]\n",
    "dataset = pd.concat(frames)\n",
    "\n",
    "dataset = dataset[dataset.widgetClass != 'Discard']\n",
    "\n",
    "dataset.head()"
   ]
  },
  {
   "cell_type": "code",
   "execution_count": 3,
   "metadata": {},
   "outputs": [
    {
     "name": "stdout",
     "output_type": "stream",
     "text": [
      "<class 'pandas.core.frame.DataFrame'>\n",
      "Int64Index: 43347 entries, 0 to 31396\n",
      "Data columns (total 17 columns):\n",
      "positionLeft            43347 non-null int64\n",
      "positionTop             43347 non-null int64\n",
      "width                   43347 non-null int64\n",
      "height                  43347 non-null int64\n",
      "childCount              43347 non-null int64\n",
      "domHeight               43347 non-null int64\n",
      "domLevelMoreElements    43347 non-null int64\n",
      "domLevelElements        43347 non-null int64\n",
      "domWidth                43347 non-null int64\n",
      "mouseX                  43347 non-null int64\n",
      "mouseY                  43347 non-null int64\n",
      "numWords                43347 non-null int64\n",
      "numWordsChild           43347 non-null float64\n",
      "numLinks                43347 non-null int64\n",
      "url                     43347 non-null object\n",
      "event                   43347 non-null object\n",
      "widgetClass             43347 non-null object\n",
      "dtypes: float64(1), int64(13), object(3)\n",
      "memory usage: 6.0+ MB\n"
     ]
    }
   ],
   "source": [
    "dataset.info()"
   ]
  },
  {
   "cell_type": "code",
   "execution_count": 4,
   "metadata": {},
   "outputs": [
    {
     "data": {
      "text/html": [
       "<div>\n",
       "<style scoped>\n",
       "    .dataframe tbody tr th:only-of-type {\n",
       "        vertical-align: middle;\n",
       "    }\n",
       "\n",
       "    .dataframe tbody tr th {\n",
       "        vertical-align: top;\n",
       "    }\n",
       "\n",
       "    .dataframe thead th {\n",
       "        text-align: right;\n",
       "    }\n",
       "</style>\n",
       "<table border=\"1\" class=\"dataframe\">\n",
       "  <thead>\n",
       "    <tr style=\"text-align: right;\">\n",
       "      <th></th>\n",
       "      <th>positionLeft</th>\n",
       "      <th>positionTop</th>\n",
       "      <th>width</th>\n",
       "      <th>height</th>\n",
       "      <th>childCount</th>\n",
       "      <th>domHeight</th>\n",
       "      <th>domLevelMoreElements</th>\n",
       "      <th>domLevelElements</th>\n",
       "      <th>domWidth</th>\n",
       "      <th>mouseX</th>\n",
       "      <th>mouseY</th>\n",
       "      <th>numWords</th>\n",
       "      <th>numWordsChild</th>\n",
       "      <th>numLinks</th>\n",
       "    </tr>\n",
       "  </thead>\n",
       "  <tbody>\n",
       "    <tr>\n",
       "      <th>count</th>\n",
       "      <td>43347.000000</td>\n",
       "      <td>4.334700e+04</td>\n",
       "      <td>43347.000000</td>\n",
       "      <td>43347.000000</td>\n",
       "      <td>43347.000000</td>\n",
       "      <td>43347.000000</td>\n",
       "      <td>43347.000000</td>\n",
       "      <td>43347.000000</td>\n",
       "      <td>43347.000000</td>\n",
       "      <td>43347.000000</td>\n",
       "      <td>43347.000000</td>\n",
       "      <td>43347.000000</td>\n",
       "      <td>43347.000000</td>\n",
       "      <td>43347.000000</td>\n",
       "    </tr>\n",
       "    <tr>\n",
       "      <th>mean</th>\n",
       "      <td>-1152.049554</td>\n",
       "      <td>-8.698751e+02</td>\n",
       "      <td>269.255612</td>\n",
       "      <td>67.907006</td>\n",
       "      <td>13.469098</td>\n",
       "      <td>2.528687</td>\n",
       "      <td>1.520544</td>\n",
       "      <td>4.289916</td>\n",
       "      <td>6.708953</td>\n",
       "      <td>563.608600</td>\n",
       "      <td>126.382702</td>\n",
       "      <td>9.938566</td>\n",
       "      <td>1.916672</td>\n",
       "      <td>2.146769</td>\n",
       "    </tr>\n",
       "    <tr>\n",
       "      <th>std</th>\n",
       "      <td>38719.137384</td>\n",
       "      <td>3.876365e+04</td>\n",
       "      <td>342.143788</td>\n",
       "      <td>164.844927</td>\n",
       "      <td>27.460319</td>\n",
       "      <td>2.833679</td>\n",
       "      <td>1.311200</td>\n",
       "      <td>8.573024</td>\n",
       "      <td>15.004063</td>\n",
       "      <td>436.749093</td>\n",
       "      <td>209.362989</td>\n",
       "      <td>18.307429</td>\n",
       "      <td>2.632862</td>\n",
       "      <td>5.445756</td>\n",
       "    </tr>\n",
       "    <tr>\n",
       "      <th>min</th>\n",
       "      <td>-1000000.000000</td>\n",
       "      <td>-1.002171e+06</td>\n",
       "      <td>0.000000</td>\n",
       "      <td>0.000000</td>\n",
       "      <td>0.000000</td>\n",
       "      <td>0.000000</td>\n",
       "      <td>1.000000</td>\n",
       "      <td>1.000000</td>\n",
       "      <td>0.000000</td>\n",
       "      <td>-1.000000</td>\n",
       "      <td>-1.000000</td>\n",
       "      <td>0.000000</td>\n",
       "      <td>0.000000</td>\n",
       "      <td>0.000000</td>\n",
       "    </tr>\n",
       "    <tr>\n",
       "      <th>25%</th>\n",
       "      <td>0.000000</td>\n",
       "      <td>0.000000e+00</td>\n",
       "      <td>0.000000</td>\n",
       "      <td>0.000000</td>\n",
       "      <td>0.000000</td>\n",
       "      <td>0.000000</td>\n",
       "      <td>1.000000</td>\n",
       "      <td>1.000000</td>\n",
       "      <td>0.000000</td>\n",
       "      <td>93.000000</td>\n",
       "      <td>3.000000</td>\n",
       "      <td>0.000000</td>\n",
       "      <td>0.000000</td>\n",
       "      <td>0.000000</td>\n",
       "    </tr>\n",
       "    <tr>\n",
       "      <th>50%</th>\n",
       "      <td>370.000000</td>\n",
       "      <td>1.660000e+02</td>\n",
       "      <td>139.000000</td>\n",
       "      <td>22.000000</td>\n",
       "      <td>2.000000</td>\n",
       "      <td>1.000000</td>\n",
       "      <td>1.000000</td>\n",
       "      <td>1.000000</td>\n",
       "      <td>1.000000</td>\n",
       "      <td>581.000000</td>\n",
       "      <td>30.000000</td>\n",
       "      <td>2.000000</td>\n",
       "      <td>1.070000</td>\n",
       "      <td>0.000000</td>\n",
       "    </tr>\n",
       "    <tr>\n",
       "      <th>75%</th>\n",
       "      <td>684.000000</td>\n",
       "      <td>5.380000e+02</td>\n",
       "      <td>440.000000</td>\n",
       "      <td>46.500000</td>\n",
       "      <td>11.000000</td>\n",
       "      <td>4.000000</td>\n",
       "      <td>1.000000</td>\n",
       "      <td>4.000000</td>\n",
       "      <td>5.000000</td>\n",
       "      <td>924.000000</td>\n",
       "      <td>195.000000</td>\n",
       "      <td>10.000000</td>\n",
       "      <td>2.810000</td>\n",
       "      <td>1.000000</td>\n",
       "    </tr>\n",
       "    <tr>\n",
       "      <th>max</th>\n",
       "      <td>2702.000000</td>\n",
       "      <td>1.991900e+04</td>\n",
       "      <td>6755.000000</td>\n",
       "      <td>3824.000000</td>\n",
       "      <td>235.000000</td>\n",
       "      <td>17.000000</td>\n",
       "      <td>12.000000</td>\n",
       "      <td>87.000000</td>\n",
       "      <td>125.000000</td>\n",
       "      <td>1367.000000</td>\n",
       "      <td>4306.000000</td>\n",
       "      <td>143.000000</td>\n",
       "      <td>50.000000</td>\n",
       "      <td>50.000000</td>\n",
       "    </tr>\n",
       "  </tbody>\n",
       "</table>\n",
       "</div>"
      ],
      "text/plain": [
       "         positionLeft   positionTop         width        height    childCount  \\\n",
       "count    43347.000000  4.334700e+04  43347.000000  43347.000000  43347.000000   \n",
       "mean     -1152.049554 -8.698751e+02    269.255612     67.907006     13.469098   \n",
       "std      38719.137384  3.876365e+04    342.143788    164.844927     27.460319   \n",
       "min   -1000000.000000 -1.002171e+06      0.000000      0.000000      0.000000   \n",
       "25%          0.000000  0.000000e+00      0.000000      0.000000      0.000000   \n",
       "50%        370.000000  1.660000e+02    139.000000     22.000000      2.000000   \n",
       "75%        684.000000  5.380000e+02    440.000000     46.500000     11.000000   \n",
       "max       2702.000000  1.991900e+04   6755.000000   3824.000000    235.000000   \n",
       "\n",
       "          domHeight  domLevelMoreElements  domLevelElements      domWidth  \\\n",
       "count  43347.000000          43347.000000      43347.000000  43347.000000   \n",
       "mean       2.528687              1.520544          4.289916      6.708953   \n",
       "std        2.833679              1.311200          8.573024     15.004063   \n",
       "min        0.000000              1.000000          1.000000      0.000000   \n",
       "25%        0.000000              1.000000          1.000000      0.000000   \n",
       "50%        1.000000              1.000000          1.000000      1.000000   \n",
       "75%        4.000000              1.000000          4.000000      5.000000   \n",
       "max       17.000000             12.000000         87.000000    125.000000   \n",
       "\n",
       "             mouseX        mouseY      numWords  numWordsChild      numLinks  \n",
       "count  43347.000000  43347.000000  43347.000000   43347.000000  43347.000000  \n",
       "mean     563.608600    126.382702      9.938566       1.916672      2.146769  \n",
       "std      436.749093    209.362989     18.307429       2.632862      5.445756  \n",
       "min       -1.000000     -1.000000      0.000000       0.000000      0.000000  \n",
       "25%       93.000000      3.000000      0.000000       0.000000      0.000000  \n",
       "50%      581.000000     30.000000      2.000000       1.070000      0.000000  \n",
       "75%      924.000000    195.000000     10.000000       2.810000      1.000000  \n",
       "max     1367.000000   4306.000000    143.000000      50.000000     50.000000  "
      ]
     },
     "execution_count": 4,
     "metadata": {},
     "output_type": "execute_result"
    }
   ],
   "source": [
    "dataset.describe()"
   ]
  },
  {
   "cell_type": "code",
   "execution_count": 5,
   "metadata": {},
   "outputs": [
    {
     "data": {
      "text/plain": [
       "Other            33478\n",
       "Dropdown          6459\n",
       "Suggestionbox     3410\n",
       "Name: widgetClass, dtype: int64"
      ]
     },
     "execution_count": 5,
     "metadata": {},
     "output_type": "execute_result"
    }
   ],
   "source": [
    "dataset['widgetClass'].value_counts()"
   ]
  },
  {
   "cell_type": "code",
   "execution_count": 6,
   "metadata": {},
   "outputs": [
    {
     "data": {
      "text/plain": [
       "1    33478\n",
       "0     6459\n",
       "2     3410\n",
       "Name: target, dtype: int64"
      ]
     },
     "execution_count": 6,
     "metadata": {},
     "output_type": "execute_result"
    }
   ],
   "source": [
    "dataset.loc[(dataset['widgetClass'] == 'Dropdown'), 'widgetClass'] = 0\n",
    "dataset.loc[(dataset['widgetClass'] == 'Other'), 'widgetClass'] = 1\n",
    "dataset.loc[(dataset['widgetClass'] == 'Suggestionbox'), 'widgetClass'] = 2\n",
    "\n",
    "dataset.rename(columns={'widgetClass': 'target'}, inplace=True)\n",
    "\n",
    "dataset['target'].value_counts()"
   ]
  },
  {
   "cell_type": "code",
   "execution_count": 7,
   "metadata": {},
   "outputs": [
    {
     "data": {
      "text/plain": [
       "mouseover    18297\n",
       "click        13691\n",
       "none         10637\n",
       "keyup          722\n",
       "Name: event, dtype: int64"
      ]
     },
     "execution_count": 7,
     "metadata": {},
     "output_type": "execute_result"
    }
   ],
   "source": [
    "dataset['event'].value_counts()"
   ]
  },
  {
   "cell_type": "code",
   "execution_count": 8,
   "metadata": {},
   "outputs": [
    {
     "data": {
      "text/plain": [
       "0    18297\n",
       "1    13691\n",
       "2    10637\n",
       "3      722\n",
       "Name: event, dtype: int64"
      ]
     },
     "execution_count": 8,
     "metadata": {},
     "output_type": "execute_result"
    }
   ],
   "source": [
    "dataset.loc[(dataset['event'] == 'mouseover'), 'event'] = 0\n",
    "dataset.loc[(dataset['event'] == 'click'), 'event'] = 1\n",
    "dataset.loc[(dataset['event'] == 'none'), 'event'] = 2\n",
    "dataset.loc[(dataset['event'] == 'keyup'), 'event'] = 3\n",
    "\n",
    "dataset['event'].value_counts()"
   ]
  },
  {
   "cell_type": "code",
   "execution_count": 9,
   "metadata": {},
   "outputs": [],
   "source": [
    "dataset.rename(columns={'url': 'group'}, inplace=True)"
   ]
  },
  {
   "cell_type": "code",
   "execution_count": 10,
   "metadata": {},
   "outputs": [],
   "source": [
    "from sklearn.model_selection import cross_validate, StratifiedKFold, GridSearchCV, train_test_split, GroupKFold\n",
    "from sklearn.neighbors import KNeighborsClassifier\n",
    "from sklearn.tree import DecisionTreeClassifier\n",
    "from sklearn.svm import SVC\n",
    "from sklearn.ensemble import RandomForestClassifier\n",
    "from sklearn.linear_model import LogisticRegression\n",
    "\n",
    "# Grid Search for tuning parameters\n",
    "from sklearn.model_selection import GridSearchCV\n",
    "# RandomizedSearch for tuning (possibly faster than GridSearch)\n",
    "from sklearn.model_selection import RandomizedSearchCV"
   ]
  },
  {
   "cell_type": "code",
   "execution_count": 11,
   "metadata": {},
   "outputs": [],
   "source": [
    "class Classificador():\n",
    "    def __init__ (self, seed):\n",
    "        self._seed = seed\n",
    "\n",
    "    def classificar(self, dataset, fold_method, n_splits_value, search, params, score_op, numero_cv):\n",
    "        X = dataset.loc[:, ~dataset.columns.isin(['target', 'group'])]\n",
    "        y = dataset['target'] ## seleciona o \"rótulo\" que será classificado\n",
    "        y.columns = ['target']\n",
    "\n",
    "        random.seed(self._seed) ## gera seed\n",
    "        \n",
    "        modelo = self.get_classificador(X, y, search, params, score_op, numero_cv)\n",
    "        \n",
    "        ## StratifiedKfold separa os folds preservando a porcentagem de amostras para cada classe do target ##\n",
    "        ## GroupKfold separa os folds preservando grupos, sendo que os mesmo grupo não aparecerá em diferentes folds ##\n",
    "        # n_splits = número de folds\n",
    "        # random_state = seed\n",
    "    \n",
    "        if(fold_method == \"StratifiedKfold\"):  \n",
    "            fold = StratifiedKFold(n_splits = n_splits_value, random_state = self._seed)\n",
    "            scores = cross_validate(modelo, X, y, cv = fold, scoring = ['accuracy', 'f1_macro', 'precision_macro', 'recall_macro'])\n",
    "            \n",
    "        elif(fold_method == \"GroupKfold\"):\n",
    "            fold = GroupKFold(n_splits = n_splits_value)\n",
    "            scores = cross_validate(modelo, X, y, cv = fold, groups = dataset['group'], scoring = ['accuracy', 'f1_macro', 'precision_macro', 'recall_macro'])\n",
    "        \n",
    "        ## cv = método de cross validation\n",
    "        ## scoring = métricas para avaliação do modelo\n",
    "        ## f1_macro = calcula f1 (média harmônica de precision e recall) separado por classes, mas sem estabelecer pesos\n",
    "        for i in range(n_splits_value):\n",
    "            print(\"Fold %s - Accuracy: %.5s, Precision: %.5s, Recall: %.5s, F-measure: %.5s\" % (i, scores['test_accuracy'][i], scores['test_precision_macro'][i], scores['test_recall_macro'][i], scores['test_f1_macro'][i]))\n",
    "        \n",
    "        print(\"Accuracy: %s on average and %s SD\" % (scores['test_accuracy'].mean(), scores['test_accuracy'].std()))\n",
    "        print(\"Precision: %s on average and %s SD\" % (scores['test_precision_macro'].mean(), scores['test_precision_macro'].std()))\n",
    "        print(\"Recall: %s on average and %s SD\" % (scores['test_recall_macro'].mean(), scores['test_recall_macro'].std()))\n",
    "        print(\"F-measure: %s on average and %s SD\" % (scores['test_f1_macro'].mean(), scores['test_f1_macro'].std()))\n",
    "\n",
    "        return 0\n",
    "    \n",
    "    def hypersearch(self, search, X, y, params, estimator, score_op, numero_cv):\n",
    "        if search == \"grid\":\n",
    "            clf = GridSearchCV(\n",
    "                estimator = estimator, \n",
    "                param_grid = params, \n",
    "                scoring = score_op,\n",
    "                cv = numero_cv,\n",
    "                n_jobs = -1\n",
    "            )\n",
    "        elif search == \"random\":           \n",
    "            clf = RandomizedSearchCV(\n",
    "                estimator = estimator,\n",
    "                param_distributions = params,\n",
    "                scoring = score_op,\n",
    "                cv = numero_cv,\n",
    "                n_jobs = -1\n",
    "            )\n",
    "            \n",
    "        clf.fit(X, y)\n",
    "        print(clf.best_params_)\n",
    "        \n",
    "        return clf\n",
    "    "
   ]
  },
  {
   "cell_type": "code",
   "execution_count": 12,
   "metadata": {},
   "outputs": [],
   "source": [
    "class DecisionTree(Classificador):\n",
    "    def __init__ (self, seed = 42):\n",
    "        Classificador.__init__(self, seed)\n",
    "        self.tipo = 'decision_tree'\n",
    "\n",
    "    def get_classificador(self, X, y, search, params, score_op, numero_cv):\n",
    "        print('-- DECISION TREE --')\n",
    "        if(search != None):\n",
    "            estimator = DecisionTreeClassifier()\n",
    "            clf = Classificador.hypersearch(self, search, X, y, params, estimator, score_op, numero_cv)\n",
    "            model = DecisionTreeClassifier(random_state = self._seed)\n",
    "            model.set_params(**clf.best_params_)\n",
    "        else:\n",
    "            model = DecisionTreeClassifier(random_state = self._seed)\n",
    "        return model\n",
    "\n",
    "class KNN(Classificador):\n",
    "    def __init__ (self, seed = 42):\n",
    "        Classificador.__init__(self, seed)\n",
    "        self.tipo = 'decision_tree'\n",
    "\n",
    "    def get_classificador(self, X, y):\n",
    "        print('-- KNN --')\n",
    "        model = KNeighborsClassifier()\n",
    "        return model\n",
    "\n",
    "class SVM(Classificador):\n",
    "    def __init__ (self, seed = 42):\n",
    "        Classificador.__init__(self, seed)\n",
    "        self.tipo = 'decision_tree'\n",
    "\n",
    "    def get_classificador(self, X, y):\n",
    "        print('-- SVM --')\n",
    "        model = SVC(random_state=self._seed, gamma = 'scale')\n",
    "        return model\n",
    "\n",
    "class RandomForest(Classificador):\n",
    "    def __init__ (self, seed = 42):\n",
    "        Classificador.__init__(self, seed)\n",
    "        self.tipo = 'decision_tree'\n",
    "\n",
    "    def get_classificador(self, X, y):\n",
    "        print('-- RANDOM FOREST --')\n",
    "        model = RandomForestClassifier(random_state=self._seed, n_estimators = 100)\n",
    "        return model\n",
    "\n",
    "class LR(Classificador):\n",
    "    def __init__ (self, seed = 42):\n",
    "        Classificador.__init__(self, seed)\n",
    "        self.tipo = 'decision_tree'\n",
    "\n",
    "    def get_classificador(self, X, y):\n",
    "        print('-- LOGISTIC REGRESSION --')\n",
    "        model = LogisticRegression(random_state=self._seed, multi_class = 'auto', solver = 'lbfgs')\n",
    "        return model"
   ]
  },
  {
   "cell_type": "markdown",
   "metadata": {},
   "source": [
    "Paramêtros do Decision Tree (['class_weight', 'criterion', 'max_depth', 'max_features', 'max_leaf_nodes', 'min_impurity_decrease', 'min_impurity_split', 'min_samples_leaf', 'min_samples_split', 'min_weight_fraction_leaf', 'presort', 'random_state', 'splitter'])"
   ]
  },
  {
   "cell_type": "code",
   "execution_count": 29,
   "metadata": {},
   "outputs": [
    {
     "name": "stdout",
     "output_type": "stream",
     "text": [
      "-- DECISION TREE --\n",
      "{'class_weight': None, 'criterion': 'gini', 'max_depth': 50, 'min_samples_leaf': 2, 'min_samples_split': 2}\n",
      "Fold 0 - Accuracy: 0.991, Precision: 0.977, Recall: 0.996, F-measure: 0.986\n",
      "Fold 1 - Accuracy: 0.985, Precision: 0.973, Recall: 0.890, F-measure: 0.924\n",
      "Fold 2 - Accuracy: 0.991, Precision: 0.996, Recall: 0.958, F-measure: 0.976\n",
      "Fold 3 - Accuracy: 0.991, Precision: 0.979, Recall: 0.996, F-measure: 0.987\n",
      "Fold 4 - Accuracy: 0.993, Precision: 0.962, Recall: 0.829, F-measure: 0.867\n",
      "Fold 5 - Accuracy: 0.986, Precision: 0.967, Recall: 0.983, F-measure: 0.974\n",
      "Fold 6 - Accuracy: 0.976, Precision: 0.927, Recall: 0.869, F-measure: 0.896\n",
      "Fold 7 - Accuracy: 0.947, Precision: 0.940, Recall: 0.936, F-measure: 0.934\n",
      "Fold 8 - Accuracy: 0.950, Precision: 0.941, Recall: 0.917, F-measure: 0.928\n",
      "Fold 9 - Accuracy: 0.871, Precision: 0.734, Recall: 0.870, F-measure: 0.759\n",
      "Accuracy: 0.9686126699152634 on average and 0.036296694110174776 SD\n",
      "Precision: 0.9403266085481242 on average and 0.07151570360864168 SD\n",
      "Recall: 0.9249034541983425 on average and 0.05611839037717156 SD\n",
      "F-measure: 0.9236308987025914 on average and 0.06666796774439107 SD\n"
     ]
    }
   ],
   "source": [
    "classificador = DecisionTree(42)\n",
    "classificador.classificar(\n",
    "    dataset, \n",
    "    fold_method = \"GroupKfold\", \n",
    "    n_splits_value = 10, \n",
    "    search = 'grid', \n",
    "    params = {\n",
    "        'criterion': [\"gini\", \"entropy\"],\n",
    "        'max_depth': [10, 50, 100, None],\n",
    "        'min_samples_split': [0.1, 2, 10, 100],\n",
    "        'min_samples_leaf': [0.1, 2, 10, 100],\n",
    "        'class_weight': [None, 'balanced']\n",
    "    }, \n",
    "    score_op = 'recall_macro', \n",
    "    numero_cv = 5);"
   ]
  },
  {
   "cell_type": "code",
   "execution_count": 30,
   "metadata": {},
   "outputs": [
    {
     "name": "stdout",
     "output_type": "stream",
     "text": [
      "-- DECISION TREE --\n",
      "{'min_samples_split': 10, 'min_samples_leaf': 2, 'max_depth': None, 'criterion': 'gini', 'class_weight': 'balanced'}\n",
      "Fold 0 - Accuracy: 0.991, Precision: 0.977, Recall: 0.996, F-measure: 0.986\n",
      "Fold 1 - Accuracy: 0.988, Precision: 0.968, Recall: 0.932, F-measure: 0.948\n",
      "Fold 2 - Accuracy: 0.991, Precision: 0.996, Recall: 0.958, F-measure: 0.976\n",
      "Fold 3 - Accuracy: 0.991, Precision: 0.979, Recall: 0.996, F-measure: 0.987\n",
      "Fold 4 - Accuracy: 0.995, Precision: 0.974, Recall: 0.829, F-measure: 0.873\n",
      "Fold 5 - Accuracy: 0.984, Precision: 0.970, Recall: 0.964, F-measure: 0.967\n",
      "Fold 6 - Accuracy: 0.972, Precision: 0.903, Recall: 0.868, F-measure: 0.884\n",
      "Fold 7 - Accuracy: 0.946, Precision: 0.939, Recall: 0.936, F-measure: 0.934\n",
      "Fold 8 - Accuracy: 0.982, Precision: 0.968, Recall: 0.936, F-measure: 0.951\n",
      "Fold 9 - Accuracy: 0.892, Precision: 0.783, Recall: 0.815, F-measure: 0.794\n",
      "Accuracy: 0.9738115693323225 on average and 0.030252299228046543 SD\n",
      "Precision: 0.9461435835721437 on average and 0.05954461220000666 SD\n",
      "Recall: 0.9234581490842384 on average and 0.061156311853687216 SD\n",
      "F-measure: 0.9305519073325883 on average and 0.0587345958391075 SD\n"
     ]
    }
   ],
   "source": [
    "classificador = DecisionTree(42)\n",
    "classificador.classificar(\n",
    "    dataset, \n",
    "    fold_method = \"GroupKfold\", \n",
    "    n_splits_value = 10, \n",
    "    search = 'random', \n",
    "    params = {\n",
    "        'criterion': [\"gini\", \"entropy\"],\n",
    "        'max_depth': [10, 50, 100, None],\n",
    "        'min_samples_split': [0.1, 2, 10, 100],\n",
    "        'min_samples_leaf': [0.1, 2, 10, 100],\n",
    "        'class_weight': [None, 'balanced']\n",
    "    }, \n",
    "    score_op = 'recall_macro', \n",
    "    numero_cv = 5);"
   ]
  },
  {
   "cell_type": "code",
   "execution_count": 15,
   "metadata": {},
   "outputs": [
    {
     "name": "stdout",
     "output_type": "stream",
     "text": [
      "-- DECISION TREE --\n",
      "Fold 0 - Accuracy: 0.991, Precision: 0.977, Recall: 0.996, F-measure: 0.986\n",
      "Fold 1 - Accuracy: 0.985, Precision: 0.973, Recall: 0.890, F-measure: 0.924\n",
      "Fold 2 - Accuracy: 0.991, Precision: 0.996, Recall: 0.958, F-measure: 0.976\n",
      "Fold 3 - Accuracy: 0.991, Precision: 0.979, Recall: 0.996, F-measure: 0.987\n",
      "Fold 4 - Accuracy: 0.995, Precision: 0.974, Recall: 0.829, F-measure: 0.873\n",
      "Fold 5 - Accuracy: 0.986, Precision: 0.967, Recall: 0.983, F-measure: 0.974\n",
      "Fold 6 - Accuracy: 0.972, Precision: 0.863, Recall: 0.841, F-measure: 0.846\n",
      "Fold 7 - Accuracy: 0.947, Precision: 0.940, Recall: 0.936, F-measure: 0.934\n",
      "Fold 8 - Accuracy: 0.947, Precision: 0.940, Recall: 0.916, F-measure: 0.926\n",
      "Fold 9 - Accuracy: 0.857, Precision: 0.706, Recall: 0.838, F-measure: 0.740\n",
      "Accuracy: 0.9667591672866089 on average and 0.0402105793693622 SD\n",
      "Precision: 0.9320122020328473 on average and 0.08325149210617887 SD\n",
      "Recall: 0.9188337048415314 on average and 0.06274963527892059 SD\n",
      "F-measure: 0.9171400654121851 on average and 0.07440466946373438 SD\n"
     ]
    }
   ],
   "source": [
    "classificador = DecisionTree(42)\n",
    "classificador.classificar(\n",
    "    dataset, \n",
    "    fold_method = \"GroupKfold\", \n",
    "    n_splits_value = 10, \n",
    "    search = None, \n",
    "    params = None, \n",
    "    score_op = None, \n",
    "    numero_cv = None);"
   ]
  },
  {
   "cell_type": "code",
   "execution_count": 16,
   "metadata": {},
   "outputs": [
    {
     "name": "stdout",
     "output_type": "stream",
     "text": [
      "-- DECISION TREE --\n",
      "{'class_weight': 'balanced', 'criterion': 'gini', 'max_depth': 100, 'min_samples_leaf': 2, 'min_samples_split': 10}\n",
      "Fold 0 - Accuracy: 0.999, Precision: 0.998, Recall: 0.999, F-measure: 0.999\n",
      "Fold 1 - Accuracy: 1.0, Precision: 1.0, Recall: 1.0, F-measure: 1.0\n",
      "Fold 2 - Accuracy: 0.996, Precision: 0.991, Recall: 0.998, F-measure: 0.995\n",
      "Fold 3 - Accuracy: 0.996, Precision: 0.985, Recall: 0.998, F-measure: 0.991\n",
      "Fold 4 - Accuracy: 1.0, Precision: 1.0, Recall: 1.0, F-measure: 1.0\n",
      "Fold 5 - Accuracy: 0.986, Precision: 0.950, Recall: 0.994, F-measure: 0.970\n",
      "Fold 6 - Accuracy: 1.0, Precision: 1.0, Recall: 1.0, F-measure: 1.0\n",
      "Fold 7 - Accuracy: 1.0, Precision: 1.0, Recall: 1.0, F-measure: 1.0\n",
      "Fold 8 - Accuracy: 0.998, Precision: 0.995, Recall: 0.999, F-measure: 0.997\n",
      "Fold 9 - Accuracy: 0.999, Precision: 0.999, Recall: 0.999, F-measure: 0.999\n",
      "Accuracy: 0.9976008694937984 on average and 0.004064419338288494 SD\n",
      "Precision: 0.9922215836681275 on average and 0.014525783458225356 SD\n",
      "Recall: 0.998922808762698 on average and 0.0017363232406752774 SD\n",
      "F-measure: 0.9953668463512513 on average and 0.008648109886312871 SD\n"
     ]
    }
   ],
   "source": [
    "classificador = DecisionTree(42)\n",
    "classificador.classificar(\n",
    "    dataset, \n",
    "    fold_method = \"StratifiedKfold\", \n",
    "    n_splits_value = 10, \n",
    "    search = 'grid', \n",
    "    params = {\n",
    "        'criterion': [\"gini\", \"entropy\"],\n",
    "        'max_depth': [10, 50, 100, None],\n",
    "        'min_samples_split': [0.1, 2, 10, 100],\n",
    "        'min_samples_leaf': [0.1, 2, 10, 100],\n",
    "        'class_weight': [None, 'balanced']\n",
    "    }, \n",
    "    score_op = 'recall_macro', \n",
    "    numero_cv = 5);"
   ]
  },
  {
   "cell_type": "code",
   "execution_count": 17,
   "metadata": {},
   "outputs": [
    {
     "name": "stdout",
     "output_type": "stream",
     "text": [
      "-- DECISION TREE --\n",
      "{'min_samples_split': 2, 'min_samples_leaf': 2, 'max_depth': 10, 'criterion': 'gini', 'class_weight': 'balanced'}\n",
      "Fold 0 - Accuracy: 0.999, Precision: 0.998, Recall: 0.999, F-measure: 0.999\n",
      "Fold 1 - Accuracy: 1.0, Precision: 1.0, Recall: 1.0, F-measure: 1.0\n",
      "Fold 2 - Accuracy: 0.996, Precision: 0.991, Recall: 0.998, F-measure: 0.995\n",
      "Fold 3 - Accuracy: 0.996, Precision: 0.985, Recall: 0.998, F-measure: 0.991\n",
      "Fold 4 - Accuracy: 1.0, Precision: 1.0, Recall: 1.0, F-measure: 1.0\n",
      "Fold 5 - Accuracy: 0.988, Precision: 0.959, Recall: 0.995, F-measure: 0.976\n",
      "Fold 6 - Accuracy: 1.0, Precision: 1.0, Recall: 1.0, F-measure: 1.0\n",
      "Fold 7 - Accuracy: 1.0, Precision: 1.0, Recall: 1.0, F-measure: 1.0\n",
      "Fold 8 - Accuracy: 0.998, Precision: 0.995, Recall: 0.999, F-measure: 0.997\n",
      "Fold 9 - Accuracy: 0.999, Precision: 0.999, Recall: 0.999, F-measure: 0.999\n",
      "Accuracy: 0.9978776861027949 on average and 0.0032976728633234476 SD\n",
      "Precision: 0.9931139910088976 on average and 0.012019443360355465 SD\n",
      "Recall: 0.9990422830757207 on average and 0.0014047304432795208 SD\n",
      "F-measure: 0.9959367154484214 on average and 0.007039708212276495 SD\n"
     ]
    }
   ],
   "source": [
    "classificador = DecisionTree(42)\n",
    "classificador.classificar(\n",
    "    dataset, \n",
    "    fold_method = \"StratifiedKfold\", \n",
    "    n_splits_value = 10, \n",
    "    search = 'random', \n",
    "    params = {\n",
    "        'criterion': [\"gini\", \"entropy\"],\n",
    "        'max_depth': [10, 50, 100, None],\n",
    "        'min_samples_split': [0.1, 2, 10, 100],\n",
    "        'min_samples_leaf': [0.1, 2, 10, 100],\n",
    "        'class_weight': [None, 'balanced']\n",
    "    }, \n",
    "    score_op = 'recall_macro', \n",
    "    numero_cv = 5);"
   ]
  },
  {
   "cell_type": "code",
   "execution_count": 19,
   "metadata": {},
   "outputs": [
    {
     "name": "stdout",
     "output_type": "stream",
     "text": [
      "-- DECISION TREE --\n",
      "Fold 0 - Accuracy: 0.999, Precision: 0.997, Recall: 0.999, F-measure: 0.998\n",
      "Fold 1 - Accuracy: 1.0, Precision: 1.0, Recall: 1.0, F-measure: 1.0\n",
      "Fold 2 - Accuracy: 0.996, Precision: 0.991, Recall: 0.998, F-measure: 0.995\n",
      "Fold 3 - Accuracy: 0.996, Precision: 0.985, Recall: 0.998, F-measure: 0.991\n",
      "Fold 4 - Accuracy: 0.996, Precision: 0.998, Recall: 0.991, F-measure: 0.995\n",
      "Fold 5 - Accuracy: 0.993, Precision: 0.984, Recall: 0.997, F-measure: 0.990\n",
      "Fold 6 - Accuracy: 0.937, Precision: 0.901, Recall: 0.972, F-measure: 0.927\n",
      "Fold 7 - Accuracy: 1.0, Precision: 1.0, Recall: 1.0, F-measure: 1.0\n",
      "Fold 8 - Accuracy: 0.998, Precision: 0.995, Recall: 0.999, F-measure: 0.997\n",
      "Fold 9 - Accuracy: 0.998, Precision: 0.995, Recall: 0.999, F-measure: 0.997\n",
      "Accuracy: 0.9915108295625927 on average and 0.01818389943705438 SD\n",
      "Precision: 0.9850171738016691 on average and 0.028442557955791464 SD\n",
      "Recall: 0.9956697791614939 on average and 0.007926533399194089 SD\n",
      "F-measure: 0.9893840483153049 on average and 0.020716901812669337 SD\n"
     ]
    }
   ],
   "source": [
    "classificador = DecisionTree(42)\n",
    "classificador.classificar(\n",
    "    dataset, \n",
    "    fold_method = \"StratifiedKfold\", \n",
    "    n_splits_value = 10, \n",
    "    search = None, \n",
    "    params = None, \n",
    "    score_op = None, \n",
    "    numero_cv = None);"
   ]
  },
  {
   "cell_type": "code",
   "execution_count": 18,
   "metadata": {
    "scrolled": false
   },
   "outputs": [
    {
     "ename": "TypeError",
     "evalue": "classificar() missing 4 required positional arguments: 'search', 'params', 'score_op', and 'numero_cv'",
     "output_type": "error",
     "traceback": [
      "\u001b[1;31m---------------------------------------------------------------------------\u001b[0m",
      "\u001b[1;31mTypeError\u001b[0m                                 Traceback (most recent call last)",
      "\u001b[1;32m<ipython-input-18-9b966f5d7f38>\u001b[0m in \u001b[0;36m<module>\u001b[1;34m\u001b[0m\n\u001b[0;32m      1\u001b[0m \u001b[0mclassificador\u001b[0m \u001b[1;33m=\u001b[0m \u001b[0mKNN\u001b[0m\u001b[1;33m(\u001b[0m\u001b[1;36m42\u001b[0m\u001b[1;33m)\u001b[0m\u001b[1;33m\u001b[0m\u001b[1;33m\u001b[0m\u001b[0m\n\u001b[1;32m----> 2\u001b[1;33m \u001b[0mclassificador\u001b[0m\u001b[1;33m.\u001b[0m\u001b[0mclassificar\u001b[0m\u001b[1;33m(\u001b[0m\u001b[0mdataset\u001b[0m\u001b[1;33m,\u001b[0m \u001b[0mfold_method\u001b[0m \u001b[1;33m=\u001b[0m \u001b[1;34m\"GroupKfold\"\u001b[0m\u001b[1;33m,\u001b[0m \u001b[0mn_splits_value\u001b[0m \u001b[1;33m=\u001b[0m \u001b[1;36m10\u001b[0m\u001b[1;33m)\u001b[0m\u001b[1;33m;\u001b[0m\u001b[1;33m\u001b[0m\u001b[1;33m\u001b[0m\u001b[0m\n\u001b[0m",
      "\u001b[1;31mTypeError\u001b[0m: classificar() missing 4 required positional arguments: 'search', 'params', 'score_op', and 'numero_cv'"
     ]
    }
   ],
   "source": [
    "classificador = KNN(42)\n",
    "classificador.classificar(dataset, fold_method = \"GroupKfold\", n_splits_value = 10);"
   ]
  },
  {
   "cell_type": "code",
   "execution_count": null,
   "metadata": {},
   "outputs": [],
   "source": [
    "classificador = KNN(42)\n",
    "classificador.classificar(dataset, fold_method = \"StratifiedKfold\", n_splits_value = 10);"
   ]
  },
  {
   "cell_type": "code",
   "execution_count": null,
   "metadata": {},
   "outputs": [],
   "source": [
    "classificador = SVM(42)\n",
    "classificador.classificar(dataset, fold_method = \"GroupKfold\", n_splits_value = 10);"
   ]
  },
  {
   "cell_type": "code",
   "execution_count": null,
   "metadata": {},
   "outputs": [],
   "source": [
    "classificador = SVM(42)\n",
    "classificador.classificar(dataset, fold_method = \"StratifiedKfold\", n_splits_value = 10);"
   ]
  },
  {
   "cell_type": "code",
   "execution_count": null,
   "metadata": {},
   "outputs": [],
   "source": [
    "classificador = RandomForest(42)\n",
    "classificador.classificar(dataset, fold_method = \"GroupKfold\", n_splits_value = 10);"
   ]
  },
  {
   "cell_type": "code",
   "execution_count": null,
   "metadata": {},
   "outputs": [],
   "source": [
    "classificador = RandomForest(42)\n",
    "classificador.classificar(dataset, fold_method = \"StratifiedKfold\", n_splits_value = 10);"
   ]
  },
  {
   "cell_type": "code",
   "execution_count": null,
   "metadata": {},
   "outputs": [],
   "source": [
    "classificador = LR(42)\n",
    "classificador.classificar(dataset, fold_method = \"GroupKfold\", n_splits_value = 10);"
   ]
  },
  {
   "cell_type": "code",
   "execution_count": null,
   "metadata": {},
   "outputs": [],
   "source": [
    "classificador = LR(42)\n",
    "classificador.classificar(dataset, fold_method = \"StratifiedKfold\", n_splits_value = 10);"
   ]
  }
 ],
 "metadata": {
  "kernelspec": {
   "display_name": "Python 3",
   "language": "python",
   "name": "python3"
  },
  "language_info": {
   "codemirror_mode": {
    "name": "ipython",
    "version": 3
   },
   "file_extension": ".py",
   "mimetype": "text/x-python",
   "name": "python",
   "nbconvert_exporter": "python",
   "pygments_lexer": "ipython3",
   "version": "3.7.3"
  }
 },
 "nbformat": 4,
 "nbformat_minor": 2
}
